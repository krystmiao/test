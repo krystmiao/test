{
 "cells": [
  {
   "cell_type": "code",
   "execution_count": 10,
   "metadata": {
    "collapsed": true
   },
   "outputs": [],
   "source": [
    "from pandas import read_parquet"
   ]
  },
  {
   "cell_type": "code",
   "execution_count": 1,
   "metadata": {
    "collapsed": true
   },
   "outputs": [],
   "source": [
    "def read_data(a_func):\n",
    "    def wrapTheFunction(*args,**kwargs):\n",
    "        a_func(*args,**kwargs)\n",
    "        print(\"successfully write in\")\n",
    "    return wrapTheFunction"
   ]
  },
  {
   "cell_type": "code",
   "execution_count": 2,
   "metadata": {
    "collapsed": true
   },
   "outputs": [],
   "source": [
    "#读取正常文件\n",
    "@read_data\n",
    "def read_data_file(input_path,output_path):\n",
    "    #traditional input of file\n",
    "    with open(input_path,'r') as r:\n",
    "        data_input=r.read()\n",
    "        r.close()\n",
    "    with open(output_path,'a+') as w:\n",
    "        w.write(data_input)\n",
    "        w.close()"
   ]
  },
  {
   "cell_type": "code",
   "execution_count": 3,
   "metadata": {
    "collapsed": true
   },
   "outputs": [],
   "source": [
    "input_path='poc1_truephone.txt'\n",
    "output_path='poc2_truephone.txt'"
   ]
  },
  {
   "cell_type": "code",
   "execution_count": 4,
   "metadata": {
    "collapsed": false
   },
   "outputs": [
    {
     "name": "stdout",
     "output_type": "stream",
     "text": [
      "successfully write in\n"
     ]
    }
   ],
   "source": [
    "read=read_data_file(input_path,output_path)"
   ]
  },
  {
   "cell_type": "code",
   "execution_count": 5,
   "metadata": {
    "collapsed": true
   },
   "outputs": [],
   "source": [
    "#读取parquet路径文件\n",
    "path='df.parquet.gzip'\n",
    "out_path='df2.parquet.gzip'"
   ]
  },
  {
   "cell_type": "code",
   "execution_count": 6,
   "metadata": {
    "collapsed": true
   },
   "outputs": [],
   "source": [
    "@read_data\n",
    "def read_parquet_data(path,out_path):\n",
    "    data=read_parquet(path)\n",
    "    data.to_parquet(out_path,compression='gzip')    "
   ]
  },
  {
   "cell_type": "code",
   "execution_count": 9,
   "metadata": {
    "collapsed": false,
    "scrolled": true
   },
   "outputs": [
    {
     "name": "stdout",
     "output_type": "stream",
     "text": [
      "successfully write in\n"
     ]
    }
   ],
   "source": [
    "read_parquet_data(path,out_path)"
   ]
  },
  {
   "cell_type": "code",
   "execution_count": null,
   "metadata": {
    "collapsed": true
   },
   "outputs": [],
   "source": []
  }
 ],
 "metadata": {
  "kernelspec": {
   "display_name": "Python 3",
   "language": "python",
   "name": "python3"
  },
  "language_info": {
   "codemirror_mode": {
    "name": "ipython",
    "version": 3
   },
   "file_extension": ".py",
   "mimetype": "text/x-python",
   "name": "python",
   "nbconvert_exporter": "python",
   "pygments_lexer": "ipython3",
   "version": "3.6.3"
  }
 },
 "nbformat": 4,
 "nbformat_minor": 2
}
